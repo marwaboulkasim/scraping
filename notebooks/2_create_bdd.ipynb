{
 "cells": [
  {
   "cell_type": "markdown",
   "id": "5c38e090",
   "metadata": {},
   "source": [
    "# Traitement et stockage des données issues du scraping\n",
    "\n",
    "Vous avez scrapé les données du site de livres et les avez stockées dans un fichier. \n",
    "\n",
    "L'objectif de ce notebook est de créer une base de données pour y stocker ces données."
   ]
  },
  {
   "cell_type": "code",
   "execution_count": 205,
   "id": "fc007873",
   "metadata": {},
   "outputs": [],
   "source": [
    "import sqlite3\n",
    "import pandas as pd"
   ]
  },
  {
   "cell_type": "markdown",
   "id": "dd34cc58",
   "metadata": {},
   "source": [
    "Lire les données du fichier sauvegardé en utilisant pandas."
   ]
  },
  {
   "cell_type": "code",
   "execution_count": 206,
   "id": "8aa4b567",
   "metadata": {},
   "outputs": [
    {
     "name": "stdout",
     "output_type": "stream",
     "text": [
      "                                   title   price rating availability\n",
      "0                   A Light in the Attic  £51.77  Three     In stock\n",
      "1                     Tipping the Velvet  £53.74    One     In stock\n",
      "2                             Soumission  £50.10    One     In stock\n",
      "3                          Sharp Objects  £47.82   Four     In stock\n",
      "4  Sapiens: A Brief History of Humankind  £54.23   Five     In stock\n"
     ]
    }
   ],
   "source": [
    "# Lire les données du fichier que vous venez d'enregistrer\n",
    "df_books = pd.read_csv(\"books_data.csv\")\n",
    "print(df_books.head())"
   ]
  },
  {
   "cell_type": "markdown",
   "id": "56d48fb1",
   "metadata": {},
   "source": [
    "## 1. Prétraitement des données\n",
    "\n",
    "On souhaite créer la table _book_ contenant les attributs suivants : \n",
    "- id : INT, PK,\n",
    "- title : TEXT,\n",
    "- price : DECIMAL\n",
    "- availability : BOOLEAN\n",
    "- rating : INT [0:5]\n",
    "\n",
    "Vérifier les types des colonnes du dataframe."
   ]
  },
  {
   "cell_type": "code",
   "execution_count": 207,
   "id": "0505d094",
   "metadata": {},
   "outputs": [
    {
     "name": "stdout",
     "output_type": "stream",
     "text": [
      "title           object\n",
      "price           object\n",
      "rating          object\n",
      "availability    object\n",
      "dtype: object\n"
     ]
    }
   ],
   "source": [
    "# Vérification des types de données\n",
    "print(df_books.dtypes)\n"
   ]
  },
  {
   "cell_type": "markdown",
   "id": "1be2df09",
   "metadata": {},
   "source": [
    "Dans les cellules qui suivent, des méthodes de traitement de données sont suggérées pour donner un aperçu de ce qu'il est possible de faire avec pandas.\n",
    "\n",
    "**Il est tout à fait possible de faire autrement.**\n",
    "\n",
    "Utiliser la méthode pandas [_astype_](https://pandas.pydata.org/pandas-docs/stable/reference/api/pandas.DataFrame.astype.html) pour convertir la colonne de titre en chaîne de caractère."
   ]
  },
  {
   "cell_type": "code",
   "execution_count": 208,
   "id": "10f0638f",
   "metadata": {},
   "outputs": [],
   "source": [
    "# # Conversion de title en chaîne de caractères\n",
    "# df_books[\"title\"].astype(str)\n",
    "\n",
    "# # Vérification du type de la colonne title\n",
    "# print(df_books[\"title\"].dtype)"
   ]
  },
  {
   "cell_type": "markdown",
   "id": "e4e6b924",
   "metadata": {},
   "source": [
    "Pour convertir la colonne de prix en nombre décimal, il est nécessaire d'utiliser une étape intermédiaire pour retirer le caractère \"£\".\n",
    "\n",
    "Il est possible par exemple d'utiliser l'attribut [.str](https://pandas.pydata.org/pandas-docs/stable/reference/api/pandas.Series.str.html) de la série \"price\"."
   ]
  },
  {
   "cell_type": "code",
   "execution_count": 209,
   "id": "5e6bd8ce",
   "metadata": {},
   "outputs": [],
   "source": [
    "# # Convertir la colonne price en type décimal\n",
    "\n",
    "\n",
    "# # Supprimer le symbole £ et convertir en float\n",
    "\n",
    "# #df_books[\"price\"] = df_books[\"price\"].str.replace(\"£\", \"\").astype(float)\n",
    "\n",
    "# df_books[\"price\"] = df_books[\"price\"].str.replace(\"£\", \"\").astype(float)\n",
    "\n",
    "\n",
    "\n",
    "# print(df_books[\"price\"].dtype)"
   ]
  },
  {
   "cell_type": "markdown",
   "id": "a537478f",
   "metadata": {},
   "source": [
    "Convertir la colonne `availability` en boolen (True/False).\n",
    "\n",
    "Quelles sont les valeurs possibles pour la colonne availability ?"
   ]
  },
  {
   "cell_type": "code",
   "execution_count": null,
   "id": "fbadd4ca",
   "metadata": {},
   "outputs": [
    {
     "name": "stdout",
     "output_type": "stream",
     "text": [
      "0      True\n",
      "1      True\n",
      "2      True\n",
      "3      True\n",
      "4      True\n",
      "       ... \n",
      "995    True\n",
      "996    True\n",
      "997    True\n",
      "998    True\n",
      "999    True\n",
      "Name: availability, Length: 1000, dtype: bool\n"
     ]
    }
   ],
   "source": [
    "# # Valeurs possibles de la colonne availability\n",
    " #df_books[\"availability\"].unique()   \n",
    "# # Convertir la colonne availability en booléen\n",
    "#df_books[\"availability\"] = df_books[\"availability\"].astype(bool)\n",
    "#print(df_books[\"availability\"].dtype)\n",
    "\n",
    "\n"
   ]
  },
  {
   "cell_type": "markdown",
   "id": "6c12b18a",
   "metadata": {},
   "source": [
    "Créer une fonction qui prend en entrée la valeur de `availability` et qui renvoie True ou False en fonction de la valeur d'entrée."
   ]
  },
  {
   "cell_type": "code",
   "execution_count": 211,
   "id": "679627d6",
   "metadata": {},
   "outputs": [
    {
     "name": "stdout",
     "output_type": "stream",
     "text": [
      "title           object\n",
      "price           object\n",
      "rating          object\n",
      "availability    object\n",
      "dtype: object\n"
     ]
    }
   ],
   "source": [
    "#Fonction pour convertir la valeur de availability en booléen\n",
    "def convert_availability(value : str) -> bool:\n",
    "    \"\"\"Convert the availability value to a boolean.\n",
    "\n",
    "    Args:\n",
    "        value (str): The availability status of the book.\n",
    "\n",
    "    Returns:\n",
    "        bool: True if the book is available, False otherwise.\n",
    "    \"\"\"\n",
    "\n",
    "    if value == \"In stock\" :\n",
    "        return True\n",
    "    return False\n",
    "\n",
    "    # Vérification des types de données après conversion\n",
    "print(df_books.dtypes)"
   ]
  },
  {
   "cell_type": "markdown",
   "id": "0dad009f",
   "metadata": {},
   "source": [
    "Utiliser la méthode [`apply`](https://pandas.pydata.org/pandas-docs/stable/reference/api/pandas.DataFrame.apply.html) pour appliquer la fonction à la colonne `availability`."
   ]
  },
  {
   "cell_type": "code",
   "execution_count": 212,
   "id": "3de7ec67",
   "metadata": {},
   "outputs": [],
   "source": [
    "# # Convertir la colonne availability en booléen (True/False)\n",
    "\n",
    "# df_books[\"availability\"] = df_books[\"availability\"].apply(convert_availability)\n",
    "# #df_books[\"availability\"] = df_books[\"availability\"].apply(bool)\n",
    "\n",
    "\n",
    "\n",
    "# # Vérification du type de la colonne availability\n",
    "# print(df_books[\"availability\"].dtype)"
   ]
  },
  {
   "cell_type": "markdown",
   "id": "fd9877d9",
   "metadata": {},
   "source": [
    "Convertir la colonne _rating_ en chiffre en utilisant un dictionnaire `rating_map` et la méthode [_map_](https://pandas.pydata.org/pandas-docs/stable/reference/api/pandas.Series.map.html)."
   ]
  },
  {
   "cell_type": "code",
   "execution_count": 213,
   "id": "0d95564c",
   "metadata": {},
   "outputs": [],
   "source": [
    "# #Dictionnaire associant les notes au format initial et les valeurs numérique\n",
    "# ratings_map = {\n",
    "#     \"one\": 1,\n",
    "#     \"two\": 2,\n",
    "#     \"three\": 3,\n",
    "#     \"four\": 4,  \n",
    "#     \"five\": 5    \n",
    "# }\n",
    "\n",
    "# df_books[\"rating\"] = df_books[\"rating\"].map(ratings_map)\n",
    "# df_books[\"rating\"] = df_books[\"rating\"].astype(float) # Convertir en float\n",
    "\n",
    "# # Vérification du type de la colonne rating\n",
    "# print(df_books[\"rating\"].dtype)"
   ]
  },
  {
   "cell_type": "code",
   "execution_count": 225,
   "id": "69770cdf",
   "metadata": {},
   "outputs": [
    {
     "name": "stdout",
     "output_type": "stream",
     "text": [
      "title           object\n",
      "price           object\n",
      "rating          object\n",
      "availability      bool\n",
      "dtype: object\n",
      "                                   title   price rating  availability\n",
      "0                   A Light in the Attic  £51.77  Three          True\n",
      "1                     Tipping the Velvet  £53.74    One          True\n",
      "2                             Soumission  £50.10    One          True\n",
      "3                          Sharp Objects  £47.82   Four          True\n",
      "4  Sapiens: A Brief History of Humankind  £54.23   Five          True\n"
     ]
    }
   ],
   "source": [
    "\n",
    "# Fonction pour convertir la disponibilité en booléen\n",
    "def convert_availability(availability: str) -> bool:\n",
    "    return \"In stock\" in availability\n",
    "\n",
    "# Créer une fonction convert_types qui combine les traitements faits dans les cellules précédentes\n",
    "def convert_types(df_books: pd.DataFrame) -> pd.DataFrame:\n",
    "    \n",
    "    \"\"\"\n",
    "    Convert the types of the DataFrame columns to appropriate types.\n",
    "\n",
    "    Args:\n",
    "        df_books (pd.DataFrame): The DataFrame containing book data.\n",
    "\n",
    "    Returns:\n",
    "        pd.DataFrame: The DataFrame with converted types.\n",
    "    \"\"\"\n",
    "    \n",
    "    df_books[\"title\"] = df_books[\"title\"].astype(str)\n",
    "    df_books[\"price\"] = df_books[\"price\"].str.replace(\"£\", \"\").astype(float)\n",
    "    df_books[\"availability\"] = df_books[\"availability\"].apply(convert_availability).astype(bool)\n",
    "    df_books[\"rating\"] = df_books[\"rating\"].map(ratings_map).astype(float)\n",
    "    \n",
    "    ratings_map = {\n",
    "    \"One\": 1,\n",
    "    \"Two\": 2,\n",
    "    \"Three\": 3,\n",
    "    \"Four\": 4,\n",
    "    \"Five\": 5\n",
    "}\n",
    "\n",
    "\n",
    "    return df_books\n",
    "print(df_books.dtypes)\n",
    "print(df_books.head())\n",
    "\n"
   ]
  },
  {
   "cell_type": "markdown",
   "id": "b946ba92",
   "metadata": {},
   "source": [
    "---\n",
    "## 2. Insertion des données en base\n",
    "\n",
    "Dans cette section :\n",
    "- on créé une BDD sqlite  `book_store.db` (ou on se connecte à la base si elle existe déjà) en utilisant la bibliothèque python sqlite3,\n",
    "- on insère les données prétraitées dans la BDD\n",
    "\n",
    "Utiliser le [tutoriel](https://www.ionos.fr/digitalguide/sites-internet/developpement-web/sqlite3-avec-python/) pour l'utilisation de sqlite3.\n",
    "\n",
    "Utiliser la fonction pandas adaptée qui permet d'insérer un dataframe dans une BDD."
   ]
  },
  {
   "cell_type": "code",
   "execution_count": 217,
   "id": "9188c10c",
   "metadata": {},
   "outputs": [
    {
     "name": "stdout",
     "output_type": "stream",
     "text": [
      "Connected to the database successfully.\n"
     ]
    },
    {
     "data": {
      "text/plain": [
       "1000"
      ]
     },
     "execution_count": 217,
     "metadata": {},
     "output_type": "execute_result"
    }
   ],
   "source": [
    "# Création de la BDD et insertion des données\n",
    "\n",
    "import sqlite3\n",
    "# Connexion à la base de données SQLite (ou création si elle n'existe pas)\n",
    "connection = sqlite3.connect(\"books_database.db\")\n",
    "\n",
    "print(\"Connected to the database successfully.\")\n",
    "# Création d'un curseur pour exécuter des requêtes SQL\n",
    "df_books.to_sql('title',connection)\n",
    "\n",
    "\n",
    "\n",
    "\n",
    "\n",
    "\n"
   ]
  },
  {
   "cell_type": "markdown",
   "id": "3e34bcf5",
   "metadata": {},
   "source": [
    "Vérifier le nombre de livres présents dans la BDD en utilisant sqlite3 et la requête SQL adaptée."
   ]
  },
  {
   "cell_type": "code",
   "execution_count": 226,
   "id": "5671f153",
   "metadata": {},
   "outputs": [
    {
     "name": "stdout",
     "output_type": "stream",
     "text": [
      "Nombre de livres dans la base de données : 1000\n"
     ]
    }
   ],
   "source": [
    "# Compter le nombre de livre dans la BDD\n",
    "cursor = connection.cursor()\n",
    "\n",
    "cursor.execute(\"SELECT COUNT(*) FROM book\")\n",
    "book_count = cursor.fetchone()[0]\n",
    "\n",
    "print(f\"Nombre de livres dans la base de données : {book_count}\")\n",
    "\n"
   ]
  }
 ],
 "metadata": {
  "kernelspec": {
   "display_name": ".venv",
   "language": "python",
   "name": "python3"
  },
  "language_info": {
   "codemirror_mode": {
    "name": "ipython",
    "version": 3
   },
   "file_extension": ".py",
   "mimetype": "text/x-python",
   "name": "python",
   "nbconvert_exporter": "python",
   "pygments_lexer": "ipython3",
   "version": "3.12.3"
  }
 },
 "nbformat": 4,
 "nbformat_minor": 5
}
